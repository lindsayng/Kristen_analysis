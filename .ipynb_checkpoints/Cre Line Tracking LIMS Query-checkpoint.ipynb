{
 "cells": [
  {
   "cell_type": "code",
   "execution_count": 1,
   "metadata": {
    "collapsed": true
   },
   "outputs": [],
   "source": [
    "import pg8000          #pg8000 access SQL databases\n",
    "import pandas as pd    #pandas will be needed to work in a dataframe"
   ]
  },
  {
   "cell_type": "code",
   "execution_count": 2,
   "metadata": {
    "collapsed": true
   },
   "outputs": [],
   "source": [
    "#code from Agata\n",
    "#these are nice functions to open LIMS, make a query and then close LIMS after\n",
    "\n",
    "def _connect(user=\"limsreader\", host=\"limsdb2\", database=\"lims2\", password=\"limsro\", port=5432):\n",
    "    conn = pg8000.connect(user=user, host=host, database=database, password=password, port=port)\n",
    "    return conn, conn.cursor()\n",
    "\n",
    "def _select(cursor, query):\n",
    "    cursor.execute(query)\n",
    "    columns = [ d[0] for d in cursor.description ]\n",
    "    return [ dict(zip(columns, c)) for c in cursor.fetchall() ]\n",
    "\n",
    "def limsquery(query, user=\"limsreader\", host=\"limsdb2\", database=\"lims2\", password=\"limsro\", port=5432):\n",
    "    \"\"\"A function that takes a string containing a SQL query, connects to the LIMS database and outputs the result.\"\"\"\n",
    "    conn, cursor = _connect(user, host, database, password, port)\n",
    "    try:\n",
    "        results = _select(cursor, query)\n",
    "    finally:\n",
    "        \n",
    "        #THESE ARE IMPORTANT!!!!!!\n",
    "        #Every query needs to be closed when done\n",
    "        cursor.close()             \n",
    "        conn.close()\n",
    "    return results\n",
    "\n",
    "\n",
    "#this last function will take our query results and put them in a dataframe so that they are easy to work with\n",
    "def get_lims_dataframe(query):\n",
    "    '''Return a dataframe with lims query'''\n",
    "    result = limsquery(query)\n",
    "    try:\n",
    "        data_df = pd.DataFrame(data=result, columns=result[0].keys())\n",
    "    except IndexError:\n",
    "        print \"Could not find results for your query.\"\n",
    "        data_df = pd.DataFrame()\n",
    "    return data_df"
   ]
  },
  {
   "cell_type": "code",
   "execution_count": 3,
   "metadata": {},
   "outputs": [
    {
     "data": {
      "text/html": [
       "<div>\n",
       "<style>\n",
       "    .dataframe thead tr:only-child th {\n",
       "        text-align: right;\n",
       "    }\n",
       "\n",
       "    .dataframe thead th {\n",
       "        text-align: left;\n",
       "    }\n",
       "\n",
       "    .dataframe tbody tr th {\n",
       "        vertical-align: top;\n",
       "    }\n",
       "</style>\n",
       "<table border=\"1\" class=\"dataframe\">\n",
       "  <thead>\n",
       "    <tr style=\"text-align: right;\">\n",
       "      <th></th>\n",
       "      <th>code</th>\n",
       "      <th>tubes</th>\n",
       "      <th>name</th>\n",
       "    </tr>\n",
       "  </thead>\n",
       "  <tbody>\n",
       "    <tr>\n",
       "      <th>795</th>\n",
       "      <td>mIVSCC-MET</td>\n",
       "      <td>5</td>\n",
       "      <td>Pvalb-IRES-Cre;Ai14-376967</td>\n",
       "    </tr>\n",
       "    <tr>\n",
       "      <th>796</th>\n",
       "      <td>T301x</td>\n",
       "      <td>7</td>\n",
       "      <td>Oxtr-T2A-Cre;Ai14-347157</td>\n",
       "    </tr>\n",
       "    <tr>\n",
       "      <th>797</th>\n",
       "      <td>T301x</td>\n",
       "      <td>20</td>\n",
       "      <td>Rorb-IRES2-Cre;Ai14-315897</td>\n",
       "    </tr>\n",
       "    <tr>\n",
       "      <th>798</th>\n",
       "      <td>mIVSCC-MET</td>\n",
       "      <td>1</td>\n",
       "      <td>Ndnf-IRES2-dgCre;Ai14-368852</td>\n",
       "    </tr>\n",
       "    <tr>\n",
       "      <th>799</th>\n",
       "      <td>mIVSCC-MET</td>\n",
       "      <td>7</td>\n",
       "      <td>Nr5a1-Cre;Ai14-355059</td>\n",
       "    </tr>\n",
       "  </tbody>\n",
       "</table>\n",
       "</div>"
      ],
      "text/plain": [
       "           code  tubes                          name\n",
       "795  mIVSCC-MET      5    Pvalb-IRES-Cre;Ai14-376967\n",
       "796       T301x      7      Oxtr-T2A-Cre;Ai14-347157\n",
       "797       T301x     20    Rorb-IRES2-Cre;Ai14-315897\n",
       "798  mIVSCC-MET      1  Ndnf-IRES2-dgCre;Ai14-368852\n",
       "799  mIVSCC-MET      7         Nr5a1-Cre;Ai14-355059"
      ]
     },
     "execution_count": 3,
     "metadata": {},
     "output_type": "execute_result"
    }
   ],
   "source": [
    "lims_query = \"SELECT donors.name, proj.code, \\\n",
    "COUNT(CASE WHEN specimens.patched_cell_container NOTNULL THEN 1 END) AS tubes \\\n",
    "FROM specimens JOIN projects proj ON specimens.project_id = proj.id \\\n",
    "JOIN donors ON specimens.donor_id = donors.id \\\n",
    "WHERE specimens.patched_cell_container NOTNULL \\\n",
    "GROUP BY donors.name, proj.code\"\n",
    "\n",
    "lims_df = get_lims_dataframe(lims_query)\n",
    "lims_df.tail()"
   ]
  },
  {
   "cell_type": "code",
   "execution_count": 4,
   "metadata": {},
   "outputs": [
    {
     "name": "stdout",
     "output_type": "stream",
     "text": [
      "         code  tubes                         full_genotype\n",
      "0  mIVSCC-MET      7  Slc17a6-IRES-Cre/wt;Ai14(RCL-tdT)/wt\n",
      "1  mIVSCC-MET      7      Vip-IRES-Cre/wt;Ai14(RCL-tdT)/wt\n",
      "2  mIVSCC-MET     40      Sst-IRES-Cre/wt;Ai14(RCL-tdT)/wt\n",
      "3  mIVSCC-MET     37  Ndnf-IRES2-dgCre/wt;Ai14(RCL-tdT)/wt\n"
     ]
    }
   ],
   "source": [
    "lims_query = \"SELECT donors.full_genotype, proj.code, \\\n",
    "COUNT(CASE WHEN specimens.patched_cell_container NOTNULL THEN 1 END) AS tubes \\\n",
    "FROM donors JOIN specimens ON specimens.donor_id = donors.id \\\n",
    "JOIN projects proj ON specimens.project_id = proj.id \\\n",
    "JOIN ephys_roi_results err ON specimens.ephys_roi_result_id = err.id \\\n",
    "WHERE err.recording_date BETWEEN '2018-02-26 00:00:00' AND '2018-03-02 24:00:00' AND \\\n",
    "proj.code <> 'hIVSCC-MET' \\\n",
    "GROUP BY donors.full_genotype, proj.code\"\n",
    "\n",
    "lims_df = get_lims_dataframe(lims_query)\n",
    "print lims_df"
   ]
  },
  {
   "cell_type": "code",
   "execution_count": null,
   "metadata": {
    "collapsed": true
   },
   "outputs": [],
   "source": []
  }
 ],
 "metadata": {
  "kernelspec": {
   "display_name": "Python 2",
   "language": "python",
   "name": "python2"
  },
  "language_info": {
   "codemirror_mode": {
    "name": "ipython",
    "version": 2
   },
   "file_extension": ".py",
   "mimetype": "text/x-python",
   "name": "python",
   "nbconvert_exporter": "python",
   "pygments_lexer": "ipython2",
   "version": "2.7.13"
  }
 },
 "nbformat": 4,
 "nbformat_minor": 2
}
