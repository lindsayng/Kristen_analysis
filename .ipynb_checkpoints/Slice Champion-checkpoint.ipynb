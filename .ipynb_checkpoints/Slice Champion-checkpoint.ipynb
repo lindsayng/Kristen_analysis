{
 "cells": [
  {
   "cell_type": "code",
   "execution_count": 1,
   "metadata": {
    "collapsed": true
   },
   "outputs": [],
   "source": [
    "import pg8000\n",
    "import numpy as np\n",
    "import pandas as pd\n",
    "from jem_funcs import limsquery, validated_input, validated_date_input\n",
    "from datetime import datetime\n",
    "from pandas.tseries.offsets import CustomBusinessDay\n",
    "from pandas.tseries.holiday import USFederalHolidayCalendar"
   ]
  },
  {
   "cell_type": "code",
   "execution_count": 10,
   "metadata": {
    "collapsed": true
   },
   "outputs": [],
   "source": [
    "def get_containers(recording_date):\n",
    "    \"\"\"Takes a date and returns a dataframe of patched cell containers and slices from that date.\n",
    "    \n",
    "    Parameters\n",
    "    ----------\n",
    "    recording_date : string\n",
    "        A date in the format YYMMDD.\n",
    "    \n",
    "    Returns\n",
    "    -------\n",
    "    Pandas dataframe\n",
    "        A dataframe containing all patched cell containers and the corresponding slice names for a given day.\n",
    "    \"\"\"\n",
    "    \n",
    "    recording_date_query_str = \"%%\" + recording_date + \"%%\"\n",
    "    lims_query_str=\"SELECT slice.name as slice, cell.patched_cell_container \\\n",
    "    FROM specimens cell JOIN specimens slice ON cell.parent_id = slice.id \\\n",
    "    JOIN projects proj ON cell.project_id = proj.id \\\n",
    "    WHERE proj.code <> 'mMPATCH' AND \\\n",
    "    cell.patched_cell_container IS NOT NULL \\\n",
    "    AND cell.patched_cell_container LIKE '%s'\" %recording_date_query_str\n",
    "    containers = pd.DataFrame(limsquery(lims_query_str))\n",
    "    return containers"
   ]
  },
  {
   "cell_type": "code",
   "execution_count": 3,
   "metadata": {
    "collapsed": true
   },
   "outputs": [],
   "source": [
    "def get_patcher(containers, slice_name):\n",
    "    \"\"\"Takes a dataframe containing patched cell containers and a slice of interest\n",
    "    and returns the name of the patcher who worked on that slice.\n",
    "    \n",
    "    Parameters\n",
    "    ----------\n",
    "    containers : Pandas dataframe\n",
    "        A dataframe containing patched cell containers and slice names.\n",
    "    slice_name : string\n",
    "        The name of the slice for which the patcher is desired.\n",
    "    \n",
    "    Returns\n",
    "    -------\n",
    "    string\n",
    "        The name of the patcher who worked on the slice.\n",
    "    \"\"\"\n",
    "\n",
    "    users = {'P1':'Kristen', 'P2':'Rusty', 'P8':'Lindsay', 'P9':'Lisa', 'PA':'Ram', 'PB':'DiJon'}\n",
    "    \n",
    "    container = containers[containers['slice'] == slice_name].patched_cell_container.values[0]\n",
    "    user_code = container[0:2]\n",
    "    user_name = users[user_code]\n",
    "    return user_name"
   ]
  },
  {
   "cell_type": "code",
   "execution_count": 15,
   "metadata": {
    "collapsed": true
   },
   "outputs": [],
   "source": [
    "def get_patcher2(containers):\n",
    "    \"\"\"Takes a dataframe containing patched cell containers and returns that dataframe with a column for the patcher.\n",
    "    \n",
    "    Parameters\n",
    "    ----------\n",
    "    containers : Pandas dataframe\n",
    "        A dataframe containing patched cell containers and slice names.\n",
    "    \n",
    "    Returns\n",
    "    -------\n",
    "    Pandas dataframe\n",
    "        The containers dataframe with a column added for user_name.\n",
    "    \"\"\"\n",
    "\n",
    "    users = {'P1':'Kristen', 'P2':'Rusty', 'P8':'Lindsay', 'P9':'Lisa', 'PA':'Ram', 'PB':'DiJon'}\n",
    "    \n",
    "    user_names = []\n",
    "    for slice_name in containers.slice:\n",
    "        container = containers[containers['slice'] == slice_name].patched_cell_container.values[0]\n",
    "        user_code = container[0:2]\n",
    "        user_name = users[user_code]\n",
    "        user_names.append(user_name)\n",
    "    patchers = pd.DataFrame({'user_name':user_names})\n",
    "    containers_new = pd.concat([containers,patchers], axis=1)\n",
    "    return containers_new"
   ]
  },
  {
   "cell_type": "code",
   "execution_count": 29,
   "metadata": {
    "collapsed": true
   },
   "outputs": [],
   "source": [
    "def find_winner(containers):\n",
    "    \"\"\"Takes a dataframe of patched cell containers and slice names and returns the name of the\n",
    "    patcher(s) with the most cells per slice.\n",
    "    \n",
    "    Parameters\n",
    "    ----------\n",
    "    containers : Pandas dataframe\n",
    "        A dataframe containing patched cell containers and slice names.\n",
    "    \n",
    "    Returns\n",
    "    -------\n",
    "    string\n",
    "        A message naming the patcher(s) with the most cells per slice.\n",
    "    \"\"\"\n",
    "    \n",
    "    counts = containers.groupby(['slice']).size().reset_index(name = 'cells')\n",
    "    most_cells = counts['cells'].max()\n",
    "    winning_slice = counts[counts['cells'] == most_cells] #all slices with maximal number of cells\n",
    "\n",
    "    #If more than 1 winning slice, prints all winners and returns message about tie\n",
    "    if len(winning_slice) > 1:\n",
    "        winner_names = []\n",
    "        for slice_name in winning_slice.slice:\n",
    "            winner_names.append(get_patcher(containers, slice_name))\n",
    "        unique_winners = np.unique(winner_names)\n",
    "        num_winners = len(unique_winners)\n",
    "        if num_winners == 1:\n",
    "            return \"%s\" %unique_winners[0] + \" with %d cells in a slice!\" %most_cells\n",
    "        else:\n",
    "            for winner in unique_winners:\n",
    "                print winner + \" got %d cells in a slice!\" %most_cells\n",
    "            return \"a %d way tie!\" %num_winners\n",
    "    #Otherwise returns single winner\n",
    "    else:\n",
    "        winning_slice = winning_slice.slice.values[0]\n",
    "        winner = get_patcher(containers, winning_slice)\n",
    "        return \"%s\" %winner + \" with %d cells in a slice!\" %most_cells"
   ]
  },
  {
   "cell_type": "code",
   "execution_count": 30,
   "metadata": {
    "collapsed": true
   },
   "outputs": [],
   "source": [
    "def main():\n",
    "    \"\"\"Prompts the user about the date for which they want the slice champion\n",
    "    and prints the winner(s) for both mouse and human slices, if applicable.\n",
    "    \"\"\"\n",
    "    \n",
    "    #Get last business day\n",
    "    bday_us = CustomBusinessDay(calendar=USFederalHolidayCalendar())\n",
    "    last_bday = (datetime.today() - bday_us).date()\n",
    "    last_bday_str = last_bday.strftime(\"%y%m%d\")\n",
    "\n",
    "    #Ask for user input\n",
    "    str_prompt1 = \"\\nWould you like to report on recordings from %s? (y / n): \"  %last_bday_str\n",
    "    valid_vals = [\"y\", \"n\"]\n",
    "    str_prompt2 = \"Please enter date to report on (YYMMDD): \"\n",
    "\n",
    "    response1 = \"\\nPlease try again...\"\n",
    "    response2 = \"\\nPlease try again... date should be YYMMDD\"\n",
    "\n",
    "    last_bday_state = validated_input(str_prompt1, response1, valid_vals)\n",
    "    if last_bday_state == \"n\":\n",
    "        report_date = validated_date_input(str_prompt2, response2, valid_options=None)\n",
    "    else:\n",
    "        report_date = last_bday_str\n",
    "\n",
    "    #Get patched cell containers\n",
    "    cell_containers = get_containers(report_date)\n",
    "    if cell_containers.empty:\n",
    "        print \"No patched cells from that date\"\n",
    "    else:\n",
    "        #Check for human cells and print slice winners for human and mouse, if applicable\n",
    "        cell_containers['human?'] = cell_containers['slice'].str.match(r\"H\\d\\d\") #creates new boolean column\n",
    "        if cell_containers['human?'].any():\n",
    "            human_cells = cell_containers[cell_containers['human?'] == True]\n",
    "            print \"The human winner is \" + find_winner(human_cells)\n",
    "        mouse_cells = cell_containers[cell_containers['human?'] == False]\n",
    "        if not mouse_cells.empty:\n",
    "            print \"The mouse winner is \" + find_winner(mouse_cells)"
   ]
  },
  {
   "cell_type": "code",
   "execution_count": 31,
   "metadata": {},
   "outputs": [
    {
     "name": "stdout",
     "output_type": "stream",
     "text": [
      "\n",
      "Would you like to report on recordings from 180510? (y / n): y\n",
      "No patched cells from that date\n"
     ]
    }
   ],
   "source": [
    "main()"
   ]
  },
  {
   "cell_type": "code",
   "execution_count": null,
   "metadata": {
    "collapsed": true
   },
   "outputs": [],
   "source": []
  }
 ],
 "metadata": {
  "kernelspec": {
   "display_name": "Python 2",
   "language": "python",
   "name": "python2"
  },
  "language_info": {
   "codemirror_mode": {
    "name": "ipython",
    "version": 2
   },
   "file_extension": ".py",
   "mimetype": "text/x-python",
   "name": "python",
   "nbconvert_exporter": "python",
   "pygments_lexer": "ipython2",
   "version": "2.7.13"
  }
 },
 "nbformat": 4,
 "nbformat_minor": 2
}
