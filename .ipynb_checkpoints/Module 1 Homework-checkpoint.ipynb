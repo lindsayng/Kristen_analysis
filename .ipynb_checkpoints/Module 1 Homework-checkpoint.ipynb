{
 "cells": [
  {
   "cell_type": "code",
   "execution_count": 1,
   "metadata": {
    "collapsed": true
   },
   "outputs": [],
   "source": [
    "import pg8000          #pg8000 access SQL databases\n",
    "import pandas as pd    #pandas will be needed to work in a dataframe"
   ]
  },
  {
   "cell_type": "code",
   "execution_count": 2,
   "metadata": {
    "collapsed": true
   },
   "outputs": [],
   "source": [
    "#code from Agata\n",
    "#these are nice functions to open LIMS, make a query and then close LIMS after\n",
    "\n",
    "def _connect(user=\"limsreader\", host=\"limsdb2\", database=\"lims2\", password=\"limsro\", port=5432):\n",
    "    conn = pg8000.connect(user=user, host=host, database=database, password=password, port=port)\n",
    "    return conn, conn.cursor()\n",
    "\n",
    "def _select(cursor, query):\n",
    "    cursor.execute(query)\n",
    "    columns = [ d[0] for d in cursor.description ]\n",
    "    return [ dict(zip(columns, c)) for c in cursor.fetchall() ]\n",
    "\n",
    "def limsquery(query, user=\"limsreader\", host=\"limsdb2\", database=\"lims2\", password=\"limsro\", port=5432):\n",
    "    \"\"\"A function that takes a string containing a SQL query, connects to the LIMS database and outputs the result.\"\"\"\n",
    "    conn, cursor = _connect(user, host, database, password, port)\n",
    "    try:\n",
    "        results = _select(cursor, query)\n",
    "    finally:\n",
    "        \n",
    "        #THESE ARE IMPORTANT!!!!!!\n",
    "        #Every query needs to be closed when done\n",
    "        cursor.close()             \n",
    "        conn.close()\n",
    "    return results\n",
    "\n",
    "\n",
    "#this last function will take our query results and put them in a dataframe so that they are easy to work with\n",
    "def get_lims_dataframe(query):\n",
    "    '''Return a dataframe with lims query'''\n",
    "    result = limsquery(query)\n",
    "    try:\n",
    "        data_df = pd.DataFrame(data=result, columns=result[0].keys())\n",
    "    except IndexError:\n",
    "        print \"Could not find results for your query.\"\n",
    "        data_df = pd.DataFrame()\n",
    "    return data_df"
   ]
  },
  {
   "cell_type": "code",
   "execution_count": 15,
   "metadata": {},
   "outputs": [
    {
     "data": {
      "text/html": [
       "<div>\n",
       "<style>\n",
       "    .dataframe thead tr:only-child th {\n",
       "        text-align: right;\n",
       "    }\n",
       "\n",
       "    .dataframe thead th {\n",
       "        text-align: left;\n",
       "    }\n",
       "\n",
       "    .dataframe tbody tr th {\n",
       "        vertical-align: top;\n",
       "    }\n",
       "</style>\n",
       "<table border=\"1\" class=\"dataframe\">\n",
       "  <thead>\n",
       "    <tr style=\"text-align: right;\">\n",
       "      <th></th>\n",
       "      <th>shortsquare</th>\n",
       "      <th>longsquare</th>\n",
       "      <th>cell_name</th>\n",
       "    </tr>\n",
       "  </thead>\n",
       "  <tbody>\n",
       "    <tr>\n",
       "      <th>0</th>\n",
       "      <td>5</td>\n",
       "      <td>4</td>\n",
       "      <td>Oxtr-T2A-Cre;Ai14-351471.04.01.01</td>\n",
       "    </tr>\n",
       "    <tr>\n",
       "      <th>1</th>\n",
       "      <td>0</td>\n",
       "      <td>4</td>\n",
       "      <td>Slc32a1-IRES-Cre;Ai14-326812.04.02.05</td>\n",
       "    </tr>\n",
       "    <tr>\n",
       "      <th>2</th>\n",
       "      <td>3</td>\n",
       "      <td>1</td>\n",
       "      <td>Slc32a1-IRES-Cre;Ai14-305535.06.02.01</td>\n",
       "    </tr>\n",
       "    <tr>\n",
       "      <th>3</th>\n",
       "      <td>7</td>\n",
       "      <td>0</td>\n",
       "      <td>Gad2-IRES-Cre;Ai14-267341.07.02.02</td>\n",
       "    </tr>\n",
       "    <tr>\n",
       "      <th>4</th>\n",
       "      <td>3</td>\n",
       "      <td>0</td>\n",
       "      <td>Slc17a6-IRES-Cre;Ai14-309388.03.01.01</td>\n",
       "    </tr>\n",
       "  </tbody>\n",
       "</table>\n",
       "</div>"
      ],
      "text/plain": [
       "   shortsquare  longsquare                              cell_name\n",
       "0            5           4      Oxtr-T2A-Cre;Ai14-351471.04.01.01\n",
       "1            0           4  Slc32a1-IRES-Cre;Ai14-326812.04.02.05\n",
       "2            3           1  Slc32a1-IRES-Cre;Ai14-305535.06.02.01\n",
       "3            7           0     Gad2-IRES-Cre;Ai14-267341.07.02.02\n",
       "4            3           0  Slc17a6-IRES-Cre;Ai14-309388.03.01.01"
      ]
     },
     "execution_count": 15,
     "metadata": {},
     "output_type": "execute_result"
    }
   ],
   "source": [
    "query = \"SELECT cell.name AS cell_name, \\\n",
    "COUNT(CASE WHEN ephys_stimuli.description LIKE '%%C1LSFINEST150112%%' THEN 1 ELSE NULL END) AS longsquare, \\\n",
    "COUNT(CASE WHEN ephys_stimuli.description LIKE '%%C1SSFINEST150112%%' THEN 1 ELSE NULL END) AS shortsquare \\\n",
    "FROM specimens cell JOIN ephys_sweeps ess ON cell.id = ess.specimen_id \\\n",
    "JOIN ephys_stimuli ON ess.ephys_stimulus_id = ephys_stimuli.id \\\n",
    "WHERE cell.patched_cell_container NOTNULL \\\n",
    "GROUP BY cell.name\"\n",
    "\n",
    "df = get_lims_dataframe(query)\n",
    "df.head()"
   ]
  },
  {
   "cell_type": "code",
   "execution_count": 163,
   "metadata": {},
   "outputs": [
    {
     "data": {
      "text/plain": [
       "3366"
      ]
     },
     "execution_count": 163,
     "metadata": {},
     "output_type": "execute_result"
    }
   ],
   "source": [
    "df = df[df['shortsquare'] > df['longsquare']]\n",
    "len(df)"
   ]
  },
  {
   "cell_type": "code",
   "execution_count": 105,
   "metadata": {},
   "outputs": [
    {
     "data": {
      "text/html": [
       "<div>\n",
       "<style>\n",
       "    .dataframe thead tr:only-child th {\n",
       "        text-align: right;\n",
       "    }\n",
       "\n",
       "    .dataframe thead th {\n",
       "        text-align: left;\n",
       "    }\n",
       "\n",
       "    .dataframe tbody tr th {\n",
       "        vertical-align: top;\n",
       "    }\n",
       "</style>\n",
       "<table border=\"1\" class=\"dataframe\">\n",
       "  <thead>\n",
       "    <tr style=\"text-align: right;\">\n",
       "      <th></th>\n",
       "      <th>cell</th>\n",
       "      <th>mouse_sex</th>\n",
       "      <th>hemi</th>\n",
       "      <th>mouse_age</th>\n",
       "    </tr>\n",
       "  </thead>\n",
       "  <tbody>\n",
       "    <tr>\n",
       "      <th>0</th>\n",
       "      <td>Chrna2-Cre_OE25;Ai14(IVSCC)-290476.04.02.01</td>\n",
       "      <td>F</td>\n",
       "      <td>right</td>\n",
       "      <td>unknown</td>\n",
       "    </tr>\n",
       "    <tr>\n",
       "      <th>1</th>\n",
       "      <td>Chrna2-Cre_OE25;Ai14(IVSCC)-290476.03.01.01</td>\n",
       "      <td>F</td>\n",
       "      <td>left</td>\n",
       "      <td>unknown</td>\n",
       "    </tr>\n",
       "    <tr>\n",
       "      <th>2</th>\n",
       "      <td>Chrna2-Cre_OE25;Ai14(IVSCC)-290476.02.01.01</td>\n",
       "      <td>F</td>\n",
       "      <td>left</td>\n",
       "      <td>unknown</td>\n",
       "    </tr>\n",
       "    <tr>\n",
       "      <th>3</th>\n",
       "      <td>Chrna2-Cre_OE25;Ai14(IVSCC)-290476.06.01.01</td>\n",
       "      <td>F</td>\n",
       "      <td>left</td>\n",
       "      <td>unknown</td>\n",
       "    </tr>\n",
       "    <tr>\n",
       "      <th>4</th>\n",
       "      <td>Chrna2-Cre_OE25;Ai14(IVSCC)-290476.03.02.01</td>\n",
       "      <td>F</td>\n",
       "      <td>right</td>\n",
       "      <td>unknown</td>\n",
       "    </tr>\n",
       "  </tbody>\n",
       "</table>\n",
       "</div>"
      ],
      "text/plain": [
       "                                          cell mouse_sex   hemi mouse_age\n",
       "0  Chrna2-Cre_OE25;Ai14(IVSCC)-290476.04.02.01         F  right   unknown\n",
       "1  Chrna2-Cre_OE25;Ai14(IVSCC)-290476.03.01.01         F   left   unknown\n",
       "2  Chrna2-Cre_OE25;Ai14(IVSCC)-290476.02.01.01         F   left   unknown\n",
       "3  Chrna2-Cre_OE25;Ai14(IVSCC)-290476.06.01.01         F   left   unknown\n",
       "4  Chrna2-Cre_OE25;Ai14(IVSCC)-290476.03.02.01         F  right   unknown"
      ]
     },
     "execution_count": 105,
     "metadata": {},
     "output_type": "execute_result"
    }
   ],
   "source": [
    "query2 = \"SELECT cell.name AS cell, hemispheres.name AS hemi, ages.name AS mouse_age, genders.name AS mouse_sex \\\n",
    "FROM specimens cell JOIN donors ON cell.donor_id = donors.id \\\n",
    "JOIN ephys_roi_results err ON cell.ephys_roi_result_id = err.id \\\n",
    "JOIN hemispheres ON cell.hemisphere_id = hemispheres.id \\\n",
    "JOIN ages ON donors.age_id = ages.id \\\n",
    "JOIN genders ON donors.gender_id = genders.id \\\n",
    "WHERE err.recording_date BETWEEN '2017-01-01 00:00:00' AND '2017-12-31 24:00:00'\"\n",
    "\n",
    "df2 = get_lims_dataframe(query2)\n",
    "df2.head()"
   ]
  },
  {
   "cell_type": "code",
   "execution_count": 162,
   "metadata": {
    "scrolled": false
   },
   "outputs": [
    {
     "data": {
      "image/png": "[encoded data removed]",
      "text/plain": [
       "<matplotlib.figure.Figure at 0xdf00c18>"
      ]
     },
     "metadata": {},
     "output_type": "display_data"
    }
   ],
   "source": [
    "import matplotlib.pyplot as plt\n",
    "df2_r = df2[df2['hemi'] == 'right']\n",
    "df2_l = df2[df2['hemi'] == 'left']\n",
    "total = len(df2_r)+len(df2_l)\n",
    "right_percent = len(df2_r)/float(total)*100\n",
    "left_percent = len(df2_l)/float(total)*100\n",
    "\n",
    "labels = 'Left Hemi', 'Right Hemi'\n",
    "sizes = [right_percent, left_percent]\n",
    "\n",
    "fig1, ax1 = plt.subplots()\n",
    "ax1.pie(sizes, labels=labels, autopct='%1.1f%%', shadow=True, startangle=90)\n",
    "ax1.axis('equal')\n",
    "\n",
    "plt.show()"
   ]
  },
  {
   "cell_type": "code",
   "execution_count": 171,
   "metadata": {},
   "outputs": [
    {
     "data": {
      "text/html": [
       "<div>\n",
       "<style>\n",
       "    .dataframe thead tr:only-child th {\n",
       "        text-align: right;\n",
       "    }\n",
       "\n",
       "    .dataframe thead th {\n",
       "        text-align: left;\n",
       "    }\n",
       "\n",
       "    .dataframe tbody tr th {\n",
       "        vertical-align: top;\n",
       "    }\n",
       "</style>\n",
       "<table border=\"1\" class=\"dataframe\">\n",
       "  <thead>\n",
       "    <tr style=\"text-align: right;\">\n",
       "      <th></th>\n",
       "      <th>name</th>\n",
       "      <th>failed_bad_rs</th>\n",
       "      <th>workflow_state</th>\n",
       "      <th>blowout_mv</th>\n",
       "      <th>input_resistance_mohm</th>\n",
       "      <th>failed_no_seal</th>\n",
       "    </tr>\n",
       "  </thead>\n",
       "  <tbody>\n",
       "    <tr>\n",
       "      <th>2417</th>\n",
       "      <td>Penk-IRES2-Cre-neo;Ai14-371366.04.02.01</td>\n",
       "      <td>False</td>\n",
       "      <td>auto_failed</td>\n",
       "      <td>13.300578</td>\n",
       "      <td>153.873312</td>\n",
       "      <td>False</td>\n",
       "    </tr>\n",
       "    <tr>\n",
       "      <th>2418</th>\n",
       "      <td>Penk-IRES2-Cre-neo;Ai14-371366.03.02.01</td>\n",
       "      <td>False</td>\n",
       "      <td>auto_failed</td>\n",
       "      <td>NaN</td>\n",
       "      <td>116.928352</td>\n",
       "      <td>False</td>\n",
       "    </tr>\n",
       "    <tr>\n",
       "      <th>2419</th>\n",
       "      <td>Penk-IRES2-Cre-neo;Ai14-371366.03.01.02</td>\n",
       "      <td>False</td>\n",
       "      <td>auto_failed</td>\n",
       "      <td>NaN</td>\n",
       "      <td>225.613728</td>\n",
       "      <td>False</td>\n",
       "    </tr>\n",
       "    <tr>\n",
       "      <th>2420</th>\n",
       "      <td>Penk-IRES2-Cre-neo;Ai14-371366.06.02.01</td>\n",
       "      <td>False</td>\n",
       "      <td>auto_failed</td>\n",
       "      <td>3.660866</td>\n",
       "      <td>192.094592</td>\n",
       "      <td>False</td>\n",
       "    </tr>\n",
       "    <tr>\n",
       "      <th>2421</th>\n",
       "      <td>Nkx2-1-CreERT2;Ai14-380128.04.01.01</td>\n",
       "      <td>False</td>\n",
       "      <td>auto_failed</td>\n",
       "      <td>-3.321269</td>\n",
       "      <td>213.823776</td>\n",
       "      <td>False</td>\n",
       "    </tr>\n",
       "  </tbody>\n",
       "</table>\n",
       "</div>"
      ],
      "text/plain": [
       "                                         name failed_bad_rs workflow_state  \\\n",
       "2417  Penk-IRES2-Cre-neo;Ai14-371366.04.02.01         False    auto_failed   \n",
       "2418  Penk-IRES2-Cre-neo;Ai14-371366.03.02.01         False    auto_failed   \n",
       "2419  Penk-IRES2-Cre-neo;Ai14-371366.03.01.02         False    auto_failed   \n",
       "2420  Penk-IRES2-Cre-neo;Ai14-371366.06.02.01         False    auto_failed   \n",
       "2421      Nkx2-1-CreERT2;Ai14-380128.04.01.01         False    auto_failed   \n",
       "\n",
       "      blowout_mv  input_resistance_mohm failed_no_seal  \n",
       "2417   13.300578             153.873312          False  \n",
       "2418         NaN             116.928352          False  \n",
       "2419         NaN             225.613728          False  \n",
       "2420    3.660866             192.094592          False  \n",
       "2421   -3.321269             213.823776          False  "
      ]
     },
     "execution_count": 171,
     "metadata": {},
     "output_type": "execute_result"
    }
   ],
   "source": [
    "query3 = \"SELECT cell.name, err.workflow_state, err.failed_bad_rs, err.failed_no_seal, err.blowout_mv, \\\n",
    "err.input_resistance_mohm \\\n",
    "FROM specimens cell JOIN ephys_roi_results err ON cell.ephys_roi_result_id = err.id \\\n",
    "JOIN projects proj ON cell.project_id = proj.id \\\n",
    "WHERE proj.code = 'T301' AND \\\n",
    "(err.stage1_reviewer_id IS NULL AND \\\n",
    "err.stage2_reviewer_id IS NULL) AND \\\n",
    "(err.workflow_state = 'auto_failed' OR \\\n",
    "err.workflow_state = 'manual_failed')\"\n",
    "\n",
    "df3 = get_lims_dataframe(query3)\n",
    "df3.tail()"
   ]
  },
  {
   "cell_type": "code",
   "execution_count": 172,
   "metadata": {},
   "outputs": [
    {
     "data": {
      "text/html": [
       "<div>\n",
       "<style>\n",
       "    .dataframe thead tr:only-child th {\n",
       "        text-align: right;\n",
       "    }\n",
       "\n",
       "    .dataframe thead th {\n",
       "        text-align: left;\n",
       "    }\n",
       "\n",
       "    .dataframe tbody tr th {\n",
       "        vertical-align: top;\n",
       "    }\n",
       "</style>\n",
       "<table border=\"1\" class=\"dataframe\">\n",
       "  <thead>\n",
       "    <tr style=\"text-align: right;\">\n",
       "      <th></th>\n",
       "      <th>stage1_reviewer</th>\n",
       "      <th>name</th>\n",
       "      <th>workflow_state</th>\n",
       "    </tr>\n",
       "  </thead>\n",
       "  <tbody>\n",
       "    <tr>\n",
       "      <th>57</th>\n",
       "      <td>dijonh</td>\n",
       "      <td>H17.06.004.11.05.06</td>\n",
       "      <td>manual_passed</td>\n",
       "    </tr>\n",
       "    <tr>\n",
       "      <th>58</th>\n",
       "      <td>dijonh</td>\n",
       "      <td>H17.06.004.11.05.01</td>\n",
       "      <td>manual_passed</td>\n",
       "    </tr>\n",
       "    <tr>\n",
       "      <th>59</th>\n",
       "      <td>dijonh</td>\n",
       "      <td>H17.06.003.12.06.02</td>\n",
       "      <td>manual_passed</td>\n",
       "    </tr>\n",
       "    <tr>\n",
       "      <th>60</th>\n",
       "      <td>dijonh</td>\n",
       "      <td>H17.06.003.11.08.05</td>\n",
       "      <td>manual_passed</td>\n",
       "    </tr>\n",
       "    <tr>\n",
       "      <th>61</th>\n",
       "      <td>dijonh</td>\n",
       "      <td>H17.06.003.11.08.03</td>\n",
       "      <td>manual_passed</td>\n",
       "    </tr>\n",
       "  </tbody>\n",
       "</table>\n",
       "</div>"
      ],
      "text/plain": [
       "   stage1_reviewer                 name workflow_state\n",
       "57          dijonh  H17.06.004.11.05.06  manual_passed\n",
       "58          dijonh  H17.06.004.11.05.01  manual_passed\n",
       "59          dijonh  H17.06.003.12.06.02  manual_passed\n",
       "60          dijonh  H17.06.003.11.08.05  manual_passed\n",
       "61          dijonh  H17.06.003.11.08.03  manual_passed"
      ]
     },
     "execution_count": 172,
     "metadata": {},
     "output_type": "execute_result"
    }
   ],
   "source": [
    "query4 = \"SELECT cell.name, users.login AS stage1_reviewer, err.workflow_state \\\n",
    "FROM specimens cell JOIN ephys_roi_results err ON cell.ephys_roi_result_id = err.id \\\n",
    "JOIN projects proj ON cell.project_id = proj.id \\\n",
    "JOIN users ON err.stage1_reviewer_id = users.id \\\n",
    "WHERE proj.code = 'H301' AND \\\n",
    "users.login = 'dijonh' AND \\\n",
    "err.workflow_state = 'manual_passed'\"\n",
    "\n",
    "df4 = get_lims_dataframe(query4)\n",
    "df4.tail()"
   ]
  },
  {
   "cell_type": "code",
   "execution_count": 173,
   "metadata": {},
   "outputs": [
    {
     "data": {
      "text/html": [
       "<div>\n",
       "<style>\n",
       "    .dataframe thead tr:only-child th {\n",
       "        text-align: right;\n",
       "    }\n",
       "\n",
       "    .dataframe thead th {\n",
       "        text-align: left;\n",
       "    }\n",
       "\n",
       "    .dataframe tbody tr th {\n",
       "        vertical-align: top;\n",
       "    }\n",
       "</style>\n",
       "<table border=\"1\" class=\"dataframe\">\n",
       "  <thead>\n",
       "    <tr style=\"text-align: right;\">\n",
       "      <th></th>\n",
       "      <th>workflow_state</th>\n",
       "      <th>name</th>\n",
       "      <th>stage2_reviewer</th>\n",
       "    </tr>\n",
       "  </thead>\n",
       "  <tbody>\n",
       "    <tr>\n",
       "      <th>24</th>\n",
       "      <td>manual_failed</td>\n",
       "      <td>H17.06.004.11.05.02</td>\n",
       "      <td>lisak</td>\n",
       "    </tr>\n",
       "    <tr>\n",
       "      <th>25</th>\n",
       "      <td>manual_failed</td>\n",
       "      <td>H15.06.017.03.06.02</td>\n",
       "      <td>lisak</td>\n",
       "    </tr>\n",
       "    <tr>\n",
       "      <th>26</th>\n",
       "      <td>manual_failed</td>\n",
       "      <td>H16.03.011.11.16.01</td>\n",
       "      <td>lisak</td>\n",
       "    </tr>\n",
       "    <tr>\n",
       "      <th>27</th>\n",
       "      <td>manual_failed</td>\n",
       "      <td>H15.03.004.01.10.01</td>\n",
       "      <td>lisak</td>\n",
       "    </tr>\n",
       "    <tr>\n",
       "      <th>28</th>\n",
       "      <td>manual_failed</td>\n",
       "      <td>H17.06.006.11.05.04</td>\n",
       "      <td>lisak</td>\n",
       "    </tr>\n",
       "  </tbody>\n",
       "</table>\n",
       "</div>"
      ],
      "text/plain": [
       "   workflow_state                 name stage2_reviewer\n",
       "24  manual_failed  H17.06.004.11.05.02           lisak\n",
       "25  manual_failed  H15.06.017.03.06.02           lisak\n",
       "26  manual_failed  H16.03.011.11.16.01           lisak\n",
       "27  manual_failed  H15.03.004.01.10.01           lisak\n",
       "28  manual_failed  H17.06.006.11.05.04           lisak"
      ]
     },
     "execution_count": 173,
     "metadata": {},
     "output_type": "execute_result"
    }
   ],
   "source": [
    "query5 = \"SELECT cell.name, users.login AS stage2_reviewer, err.workflow_state \\\n",
    "FROM specimens cell JOIN ephys_roi_results err ON cell.ephys_roi_result_id = err.id \\\n",
    "JOIN projects proj ON cell.project_id = proj.id \\\n",
    "JOIN users ON err.stage2_reviewer_id = users.id \\\n",
    "WHERE proj.code = 'H301' AND \\\n",
    "users.login = 'lisak' AND \\\n",
    "err.workflow_state = 'manual_failed'\"\n",
    "\n",
    "df5 = get_lims_dataframe(query5)\n",
    "df5.tail()"
   ]
  },
  {
   "cell_type": "code",
   "execution_count": 98,
   "metadata": {},
   "outputs": [
    {
     "name": "stdout",
     "output_type": "stream",
     "text": [
      "['updated_at', 'created_at', 'symbol', 'id', 'name']\n"
     ]
    }
   ],
   "source": [
    "search = \"SELECT * FROM hemispheres\"\n",
    "search_result = limsquery(search)\n",
    "first_element = search_result[0]\n",
    "print first_element.keys()"
   ]
  },
  {
   "cell_type": "code",
   "execution_count": null,
   "metadata": {
    "collapsed": true
   },
   "outputs": [],
   "source": []
  }
 ],
 "metadata": {
  "kernelspec": {
   "display_name": "Python 2",
   "language": "python",
   "name": "python2"
  },
  "language_info": {
   "codemirror_mode": {
    "name": "ipython",
    "version": 2
   },
   "file_extension": ".py",
   "mimetype": "text/x-python",
   "name": "python",
   "nbconvert_exporter": "python",
   "pygments_lexer": "ipython2",
   "version": "2.7.13"
  }
 },
 "nbformat": 4,
 "nbformat_minor": 2
}
