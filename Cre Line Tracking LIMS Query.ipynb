{
 "cells": [
  {
   "cell_type": "code",
   "execution_count": 4,
   "metadata": {
    "collapsed": true
   },
   "outputs": [],
   "source": [
    "import pg8000          #pg8000 access SQL databases\n",
    "import pandas as pd    #pandas will be needed to work in a dataframe"
   ]
  },
  {
   "cell_type": "code",
   "execution_count": 5,
   "metadata": {
    "collapsed": true
   },
   "outputs": [],
   "source": [
    "#code from Agata\n",
    "#these are nice functions to open LIMS, make a query and then close LIMS after\n",
    "\n",
    "def _connect(user=\"limsreader\", host=\"limsdb2\", database=\"lims2\", password=\"limsro\", port=5432):\n",
    "    conn = pg8000.connect(user=user, host=host, database=database, password=password, port=port)\n",
    "    return conn, conn.cursor()\n",
    "\n",
    "def _select(cursor, query):\n",
    "    cursor.execute(query)\n",
    "    columns = [ d[0] for d in cursor.description ]\n",
    "    return [ dict(zip(columns, c)) for c in cursor.fetchall() ]\n",
    "\n",
    "def limsquery(query, user=\"limsreader\", host=\"limsdb2\", database=\"lims2\", password=\"limsro\", port=5432):\n",
    "    \"\"\"A function that takes a string containing a SQL query, connects to the LIMS database and outputs the result.\"\"\"\n",
    "    conn, cursor = _connect(user, host, database, password, port)\n",
    "    try:\n",
    "        results = _select(cursor, query)\n",
    "    finally:\n",
    "        \n",
    "        #THESE ARE IMPORTANT!!!!!!\n",
    "        #Every query needs to be closed when done\n",
    "        cursor.close()             \n",
    "        conn.close()\n",
    "    return results\n",
    "\n",
    "\n",
    "#this last function will take our query results and put them in a dataframe so that they are easy to work with\n",
    "def get_lims_dataframe(query):\n",
    "    '''Return a dataframe with lims query'''\n",
    "    result = limsquery(query)\n",
    "    try:\n",
    "        data_df = pd.DataFrame(data=result, columns=result[0].keys())\n",
    "    except IndexError:\n",
    "        print \"Could not find results for your query.\"\n",
    "        data_df = pd.DataFrame()\n",
    "    return data_df"
   ]
  },
  {
   "cell_type": "code",
   "execution_count": 7,
   "metadata": {},
   "outputs": [
    {
     "name": "stdout",
     "output_type": "stream",
     "text": [
      "         code  tubes                                      full_genotype\n",
      "0  mIVSCC-MET      1                   Slc17a8-iCre/wt;Ai14(RCL-tdT)/wt\n",
      "1        T301      1                   Slc17a8-iCre/wt;Ai14(RCL-tdT)/wt\n",
      "2  mIVSCC-MET     17                   Vip-IRES-Cre/wt;Ai14(RCL-tdT)/wt\n",
      "3  mIVSCC-MET      7                 Rbp4-Cre_KL100/wt;Ai14(RCL-tdT)/wt\n",
      "4  mIVSCC-MET      3                   Sst-IRES-Cre/wt;Ai14(RCL-tdT)/wt\n",
      "5  mIVSCC-MET      4  Htr3a-Cre_NO152/wt;Sst-IRES-FlpO/wt;Ai65(RCFL-...\n",
      "6  mIVSCC-MET      2  Vipr2-IRES2-Cre/wt;Slc32a1-T2A-FlpO/wt;Ai65(RC...\n",
      "7  mIVSCC-MET      1               Slc32a1-IRES-Cre/wt;Ai14(RCL-tdT)/wt\n"
     ]
    }
   ],
   "source": [
    "lims_query = \"SELECT donors.full_genotype, proj.code, \\\n",
    "COUNT(CASE WHEN specimens.patched_cell_container NOTNULL THEN 1 END) AS tubes \\\n",
    "FROM donors JOIN specimens ON specimens.donor_id = donors.id \\\n",
    "JOIN projects proj ON specimens.project_id = proj.id \\\n",
    "JOIN ephys_roi_results err ON specimens.ephys_roi_result_id = err.id \\\n",
    "WHERE err.recording_date BETWEEN '2018-05-07 00:00:00' AND '2018-05-13 24:00:00' AND \\\n",
    "proj.code <> 'hIVSCC-MET' \\\n",
    "GROUP BY donors.full_genotype, proj.code\"\n",
    "\n",
    "lims_df = get_lims_dataframe(lims_query)\n",
    "print lims_df"
   ]
  },
  {
   "cell_type": "code",
   "execution_count": null,
   "metadata": {
    "collapsed": true
   },
   "outputs": [],
   "source": []
  }
 ],
 "metadata": {
  "kernelspec": {
   "display_name": "Python 2",
   "language": "python",
   "name": "python2"
  },
  "language_info": {
   "codemirror_mode": {
    "name": "ipython",
    "version": 2
   },
   "file_extension": ".py",
   "mimetype": "text/x-python",
   "name": "python",
   "nbconvert_exporter": "python",
   "pygments_lexer": "ipython2",
   "version": "2.7.13"
  }
 },
 "nbformat": 4,
 "nbformat_minor": 2
}
