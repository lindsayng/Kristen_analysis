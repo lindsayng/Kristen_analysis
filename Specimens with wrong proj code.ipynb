{
 "cells": [
  {
   "cell_type": "code",
   "execution_count": 1,
   "metadata": {
    "collapsed": true
   },
   "outputs": [],
   "source": [
    "import pg8000          #pg8000 access SQL databases\n",
    "import pandas as pd    #pandas will be needed to work in a dataframe"
   ]
  },
  {
   "cell_type": "code",
   "execution_count": 2,
   "metadata": {
    "collapsed": true
   },
   "outputs": [],
   "source": [
    "#code from Agata\n",
    "#these are nice functions to open LIMS, make a query and then close LIMS after\n",
    "\n",
    "def _connect(user=\"limsreader\", host=\"limsdb2\", database=\"lims2\", password=\"limsro\", port=5432):\n",
    "    conn = pg8000.connect(user=user, host=host, database=database, password=password, port=port)\n",
    "    return conn, conn.cursor()\n",
    "\n",
    "def _select(cursor, query):\n",
    "    cursor.execute(query)\n",
    "    columns = [ d[0] for d in cursor.description ]\n",
    "    return [ dict(zip(columns, c)) for c in cursor.fetchall() ]\n",
    "\n",
    "def limsquery(query, user=\"limsreader\", host=\"limsdb2\", database=\"lims2\", password=\"limsro\", port=5432):\n",
    "    \"\"\"A function that takes a string containing a SQL query, connects to the LIMS database and outputs the result.\"\"\"\n",
    "    conn, cursor = _connect(user, host, database, password, port)\n",
    "    try:\n",
    "        results = _select(cursor, query)\n",
    "    finally:\n",
    "        \n",
    "        #THESE ARE IMPORTANT!!!!!!\n",
    "        #Every query needs to be closed when done\n",
    "        cursor.close()             \n",
    "        conn.close()\n",
    "    return results\n",
    "\n",
    "\n",
    "#this last function will take our query results and put them in a dataframe so that they are easy to work with\n",
    "def get_lims_dataframe(query):\n",
    "    '''Return a dataframe with lims query'''\n",
    "    result = limsquery(query)\n",
    "    try:\n",
    "        data_df = pd.DataFrame(data=result, columns=result[0].keys())\n",
    "    except IndexError:\n",
    "        print \"Could not find results for your query.\"\n",
    "        data_df = pd.DataFrame()\n",
    "    return data_df"
   ]
  },
  {
   "cell_type": "code",
   "execution_count": 17,
   "metadata": {},
   "outputs": [
    {
     "data": {
      "text/html": [
       "<div>\n",
       "<style>\n",
       "    .dataframe thead tr:only-child th {\n",
       "        text-align: right;\n",
       "    }\n",
       "\n",
       "    .dataframe thead th {\n",
       "        text-align: left;\n",
       "    }\n",
       "\n",
       "    .dataframe tbody tr th {\n",
       "        vertical-align: top;\n",
       "    }\n",
       "</style>\n",
       "<table border=\"1\" class=\"dataframe\">\n",
       "  <thead>\n",
       "    <tr style=\"text-align: right;\">\n",
       "      <th></th>\n",
       "      <th>patched_cell_container</th>\n",
       "      <th>code</th>\n",
       "      <th>blowout_mv</th>\n",
       "      <th>name</th>\n",
       "    </tr>\n",
       "  </thead>\n",
       "  <tbody>\n",
       "    <tr>\n",
       "      <th>290</th>\n",
       "      <td>None</td>\n",
       "      <td>T301x</td>\n",
       "      <td>-0.336045</td>\n",
       "      <td>Scnn1a-Tg3-Cre;Ai14-346622.04.01.01</td>\n",
       "    </tr>\n",
       "    <tr>\n",
       "      <th>291</th>\n",
       "      <td>None</td>\n",
       "      <td>T301x</td>\n",
       "      <td>0.851241</td>\n",
       "      <td>Oxtr-T2A-Cre;Ai14-328788.04.01.01</td>\n",
       "    </tr>\n",
       "    <tr>\n",
       "      <th>292</th>\n",
       "      <td>None</td>\n",
       "      <td>T301x</td>\n",
       "      <td>3.549868</td>\n",
       "      <td>Ai14-Homo-345920.04.01.02</td>\n",
       "    </tr>\n",
       "    <tr>\n",
       "      <th>293</th>\n",
       "      <td>None</td>\n",
       "      <td>T301x</td>\n",
       "      <td>-1.659578</td>\n",
       "      <td>Ndnf-IRES2-dgCre;Ai14-237573.03.01.01</td>\n",
       "    </tr>\n",
       "    <tr>\n",
       "      <th>294</th>\n",
       "      <td>None</td>\n",
       "      <td>T301x</td>\n",
       "      <td>2.038359</td>\n",
       "      <td>Ndnf-IRES2-dgCre;Ai14-341277.05.01.01</td>\n",
       "    </tr>\n",
       "  </tbody>\n",
       "</table>\n",
       "</div>"
      ],
      "text/plain": [
       "    patched_cell_container   code  blowout_mv  \\\n",
       "290                   None  T301x   -0.336045   \n",
       "291                   None  T301x    0.851241   \n",
       "292                   None  T301x    3.549868   \n",
       "293                   None  T301x   -1.659578   \n",
       "294                   None  T301x    2.038359   \n",
       "\n",
       "                                      name  \n",
       "290    Scnn1a-Tg3-Cre;Ai14-346622.04.01.01  \n",
       "291      Oxtr-T2A-Cre;Ai14-328788.04.01.01  \n",
       "292              Ai14-Homo-345920.04.01.02  \n",
       "293  Ndnf-IRES2-dgCre;Ai14-237573.03.01.01  \n",
       "294  Ndnf-IRES2-dgCre;Ai14-341277.05.01.01  "
      ]
     },
     "execution_count": 17,
     "metadata": {},
     "output_type": "execute_result"
    }
   ],
   "source": [
    "query = \"SELECT cell.name, proj.code, cell.patched_cell_container, err.blowout_mv \\\n",
    "FROM donors JOIN specimens cell ON donors.id = cell.donor_id \\\n",
    "JOIN projects proj ON cell.project_id = proj.id \\\n",
    "JOIN ephys_roi_results err ON cell.ephys_roi_result_id = err.id \\\n",
    "WHERE (proj.code = 'mIVSCC-MET' OR proj.code = 'T301x') AND \\\n",
    "cell.patched_cell_container IS NULL AND \\\n",
    "err.blowout_mv NOTNULL \\\n",
    "GROUP BY cell.name, proj.code, cell.patched_cell_container, err.blowout_mv\"\n",
    "\n",
    "df = get_lims_dataframe(query)\n",
    "df.to_excel('T301xMETwithoutTube.xlsx')\n",
    "df.tail()"
   ]
  },
  {
   "cell_type": "code",
   "execution_count": null,
   "metadata": {
    "collapsed": true
   },
   "outputs": [],
   "source": []
  }
 ],
 "metadata": {
  "kernelspec": {
   "display_name": "Python 2",
   "language": "python",
   "name": "python2"
  },
  "language_info": {
   "codemirror_mode": {
    "name": "ipython",
    "version": 2
   },
   "file_extension": ".py",
   "mimetype": "text/x-python",
   "name": "python",
   "nbconvert_exporter": "python",
   "pygments_lexer": "ipython2",
   "version": "2.7.13"
  }
 },
 "nbformat": 4,
 "nbformat_minor": 2
}
